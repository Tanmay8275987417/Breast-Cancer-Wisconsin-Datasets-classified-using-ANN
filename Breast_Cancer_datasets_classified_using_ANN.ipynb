{
  "nbformat": 4,
  "nbformat_minor": 0,
  "metadata": {
    "colab": {
      "name": "Breast Cancer datasets classified using ANN",
      "provenance": [],
      "authorship_tag": "ABX9TyO70/jLvbNYZ8m/ceHLgc3O",
      "include_colab_link": true
    },
    "kernelspec": {
      "name": "python3",
      "display_name": "Python 3"
    },
    "language_info": {
      "name": "python"
    }
  },
  "cells": [
    {
      "cell_type": "markdown",
      "metadata": {
        "id": "view-in-github",
        "colab_type": "text"
      },
      "source": [
        "<a href=\"https://colab.research.google.com/github/Tanmay8275987417/Tanmay-Paliwal-DL-Breast-Cancer-Wisconsin-Datasets-classified-using-ANN/blob/main/Breast_Cancer_datasets_classified_using_ANN.ipynb\" target=\"_parent\"><img src=\"https://colab.research.google.com/assets/colab-badge.svg\" alt=\"Open In Colab\"/></a>"
      ]
    },
    {
      "cell_type": "markdown",
      "metadata": {
        "id": "x62Ms6hrlx4c"
      },
      "source": [
        "# **Breast Cancer Wisconsin Datasets classified using ANN**"
      ]
    },
    {
      "cell_type": "code",
      "metadata": {
        "id": "EqqYXqR5t38W"
      },
      "source": [
        "# Installing the packages\n",
        "\n",
        "#!pip install graphviz\n",
        "import numpy as np\n",
        "import pandas as pd\n",
        "import matplotlib.pyplot as plt\n",
        "import seaborn as sns\n",
        "import keras\n",
        "import keras\n",
        "from keras.models import Sequential     # Sequential allows you to create models layer-by-layer\n",
        "from keras.layers import Dense"
      ],
      "execution_count": 1,
      "outputs": []
    },
    {
      "cell_type": "code",
      "metadata": {
        "colab": {
          "resources": {
            "http://localhost:8080/nbextensions/google.colab/files.js": {
              "data": "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",
              "ok": true,
              "headers": [
                [
                  "content-type",
                  "application/javascript"
                ]
              ],
              "status": 200,
              "status_text": ""
            }
          },
          "base_uri": "https://localhost:8080/",
          "height": 73
        },
        "id": "tG5t7kXpu1Li",
        "outputId": "3169b6d4-a843-4d73-c1b8-8d102e173e06"
      },
      "source": [
        "# Importing the Datasets\n",
        "\n",
        "from google.colab import files\n",
        "uploaded = files.upload()\n",
        "import io\n",
        "data = pd.read_csv(io.BytesIO(uploaded['data.csv']))\n",
        "# Dataset is now stored in a Pandas Dataframe"
      ],
      "execution_count": 3,
      "outputs": [
        {
          "output_type": "display_data",
          "data": {
            "text/html": [
              "\n",
              "     <input type=\"file\" id=\"files-d9427469-c3c8-4b13-9a00-17c5d62e066a\" name=\"files[]\" multiple disabled\n",
              "        style=\"border:none\" />\n",
              "     <output id=\"result-d9427469-c3c8-4b13-9a00-17c5d62e066a\">\n",
              "      Upload widget is only available when the cell has been executed in the\n",
              "      current browser session. Please rerun this cell to enable.\n",
              "      </output>\n",
              "      <script src=\"/nbextensions/google.colab/files.js\"></script> "
            ],
            "text/plain": [
              "<IPython.core.display.HTML object>"
            ]
          },
          "metadata": {
            "tags": []
          }
        },
        {
          "output_type": "stream",
          "text": [
            "Saving data.csv to data.csv\n"
          ],
          "name": "stdout"
        }
      ]
    },
    {
      "cell_type": "code",
      "metadata": {
        "colab": {
          "base_uri": "https://localhost:8080/",
          "height": 445
        },
        "id": "oQg9cn9CvSCW",
        "outputId": "9fb98365-7236-4e07-a75a-443f761645df"
      },
      "source": [
        "data"
      ],
      "execution_count": 5,
      "outputs": [
        {
          "output_type": "execute_result",
          "data": {
            "text/html": [
              "<div>\n",
              "<style scoped>\n",
              "    .dataframe tbody tr th:only-of-type {\n",
              "        vertical-align: middle;\n",
              "    }\n",
              "\n",
              "    .dataframe tbody tr th {\n",
              "        vertical-align: top;\n",
              "    }\n",
              "\n",
              "    .dataframe thead th {\n",
              "        text-align: right;\n",
              "    }\n",
              "</style>\n",
              "<table border=\"1\" class=\"dataframe\">\n",
              "  <thead>\n",
              "    <tr style=\"text-align: right;\">\n",
              "      <th></th>\n",
              "      <th>id</th>\n",
              "      <th>diagnosis</th>\n",
              "      <th>radius_mean</th>\n",
              "      <th>texture_mean</th>\n",
              "      <th>perimeter_mean</th>\n",
              "      <th>area_mean</th>\n",
              "      <th>smoothness_mean</th>\n",
              "      <th>compactness_mean</th>\n",
              "      <th>concavity_mean</th>\n",
              "      <th>concave points_mean</th>\n",
              "      <th>symmetry_mean</th>\n",
              "      <th>fractal_dimension_mean</th>\n",
              "      <th>radius_se</th>\n",
              "      <th>texture_se</th>\n",
              "      <th>perimeter_se</th>\n",
              "      <th>area_se</th>\n",
              "      <th>smoothness_se</th>\n",
              "      <th>compactness_se</th>\n",
              "      <th>concavity_se</th>\n",
              "      <th>concave points_se</th>\n",
              "      <th>symmetry_se</th>\n",
              "      <th>fractal_dimension_se</th>\n",
              "      <th>radius_worst</th>\n",
              "      <th>texture_worst</th>\n",
              "      <th>perimeter_worst</th>\n",
              "      <th>area_worst</th>\n",
              "      <th>smoothness_worst</th>\n",
              "      <th>compactness_worst</th>\n",
              "      <th>concavity_worst</th>\n",
              "      <th>concave points_worst</th>\n",
              "      <th>symmetry_worst</th>\n",
              "      <th>fractal_dimension_worst</th>\n",
              "      <th>Unnamed: 32</th>\n",
              "    </tr>\n",
              "  </thead>\n",
              "  <tbody>\n",
              "    <tr>\n",
              "      <th>0</th>\n",
              "      <td>842302</td>\n",
              "      <td>M</td>\n",
              "      <td>17.99</td>\n",
              "      <td>10.38</td>\n",
              "      <td>122.80</td>\n",
              "      <td>1001.0</td>\n",
              "      <td>0.11840</td>\n",
              "      <td>0.27760</td>\n",
              "      <td>0.30010</td>\n",
              "      <td>0.14710</td>\n",
              "      <td>0.2419</td>\n",
              "      <td>0.07871</td>\n",
              "      <td>1.0950</td>\n",
              "      <td>0.9053</td>\n",
              "      <td>8.589</td>\n",
              "      <td>153.40</td>\n",
              "      <td>0.006399</td>\n",
              "      <td>0.04904</td>\n",
              "      <td>0.05373</td>\n",
              "      <td>0.01587</td>\n",
              "      <td>0.03003</td>\n",
              "      <td>0.006193</td>\n",
              "      <td>25.380</td>\n",
              "      <td>17.33</td>\n",
              "      <td>184.60</td>\n",
              "      <td>2019.0</td>\n",
              "      <td>0.16220</td>\n",
              "      <td>0.66560</td>\n",
              "      <td>0.7119</td>\n",
              "      <td>0.2654</td>\n",
              "      <td>0.4601</td>\n",
              "      <td>0.11890</td>\n",
              "      <td>NaN</td>\n",
              "    </tr>\n",
              "    <tr>\n",
              "      <th>1</th>\n",
              "      <td>842517</td>\n",
              "      <td>M</td>\n",
              "      <td>20.57</td>\n",
              "      <td>17.77</td>\n",
              "      <td>132.90</td>\n",
              "      <td>1326.0</td>\n",
              "      <td>0.08474</td>\n",
              "      <td>0.07864</td>\n",
              "      <td>0.08690</td>\n",
              "      <td>0.07017</td>\n",
              "      <td>0.1812</td>\n",
              "      <td>0.05667</td>\n",
              "      <td>0.5435</td>\n",
              "      <td>0.7339</td>\n",
              "      <td>3.398</td>\n",
              "      <td>74.08</td>\n",
              "      <td>0.005225</td>\n",
              "      <td>0.01308</td>\n",
              "      <td>0.01860</td>\n",
              "      <td>0.01340</td>\n",
              "      <td>0.01389</td>\n",
              "      <td>0.003532</td>\n",
              "      <td>24.990</td>\n",
              "      <td>23.41</td>\n",
              "      <td>158.80</td>\n",
              "      <td>1956.0</td>\n",
              "      <td>0.12380</td>\n",
              "      <td>0.18660</td>\n",
              "      <td>0.2416</td>\n",
              "      <td>0.1860</td>\n",
              "      <td>0.2750</td>\n",
              "      <td>0.08902</td>\n",
              "      <td>NaN</td>\n",
              "    </tr>\n",
              "    <tr>\n",
              "      <th>2</th>\n",
              "      <td>84300903</td>\n",
              "      <td>M</td>\n",
              "      <td>19.69</td>\n",
              "      <td>21.25</td>\n",
              "      <td>130.00</td>\n",
              "      <td>1203.0</td>\n",
              "      <td>0.10960</td>\n",
              "      <td>0.15990</td>\n",
              "      <td>0.19740</td>\n",
              "      <td>0.12790</td>\n",
              "      <td>0.2069</td>\n",
              "      <td>0.05999</td>\n",
              "      <td>0.7456</td>\n",
              "      <td>0.7869</td>\n",
              "      <td>4.585</td>\n",
              "      <td>94.03</td>\n",
              "      <td>0.006150</td>\n",
              "      <td>0.04006</td>\n",
              "      <td>0.03832</td>\n",
              "      <td>0.02058</td>\n",
              "      <td>0.02250</td>\n",
              "      <td>0.004571</td>\n",
              "      <td>23.570</td>\n",
              "      <td>25.53</td>\n",
              "      <td>152.50</td>\n",
              "      <td>1709.0</td>\n",
              "      <td>0.14440</td>\n",
              "      <td>0.42450</td>\n",
              "      <td>0.4504</td>\n",
              "      <td>0.2430</td>\n",
              "      <td>0.3613</td>\n",
              "      <td>0.08758</td>\n",
              "      <td>NaN</td>\n",
              "    </tr>\n",
              "    <tr>\n",
              "      <th>3</th>\n",
              "      <td>84348301</td>\n",
              "      <td>M</td>\n",
              "      <td>11.42</td>\n",
              "      <td>20.38</td>\n",
              "      <td>77.58</td>\n",
              "      <td>386.1</td>\n",
              "      <td>0.14250</td>\n",
              "      <td>0.28390</td>\n",
              "      <td>0.24140</td>\n",
              "      <td>0.10520</td>\n",
              "      <td>0.2597</td>\n",
              "      <td>0.09744</td>\n",
              "      <td>0.4956</td>\n",
              "      <td>1.1560</td>\n",
              "      <td>3.445</td>\n",
              "      <td>27.23</td>\n",
              "      <td>0.009110</td>\n",
              "      <td>0.07458</td>\n",
              "      <td>0.05661</td>\n",
              "      <td>0.01867</td>\n",
              "      <td>0.05963</td>\n",
              "      <td>0.009208</td>\n",
              "      <td>14.910</td>\n",
              "      <td>26.50</td>\n",
              "      <td>98.87</td>\n",
              "      <td>567.7</td>\n",
              "      <td>0.20980</td>\n",
              "      <td>0.86630</td>\n",
              "      <td>0.6869</td>\n",
              "      <td>0.2575</td>\n",
              "      <td>0.6638</td>\n",
              "      <td>0.17300</td>\n",
              "      <td>NaN</td>\n",
              "    </tr>\n",
              "    <tr>\n",
              "      <th>4</th>\n",
              "      <td>84358402</td>\n",
              "      <td>M</td>\n",
              "      <td>20.29</td>\n",
              "      <td>14.34</td>\n",
              "      <td>135.10</td>\n",
              "      <td>1297.0</td>\n",
              "      <td>0.10030</td>\n",
              "      <td>0.13280</td>\n",
              "      <td>0.19800</td>\n",
              "      <td>0.10430</td>\n",
              "      <td>0.1809</td>\n",
              "      <td>0.05883</td>\n",
              "      <td>0.7572</td>\n",
              "      <td>0.7813</td>\n",
              "      <td>5.438</td>\n",
              "      <td>94.44</td>\n",
              "      <td>0.011490</td>\n",
              "      <td>0.02461</td>\n",
              "      <td>0.05688</td>\n",
              "      <td>0.01885</td>\n",
              "      <td>0.01756</td>\n",
              "      <td>0.005115</td>\n",
              "      <td>22.540</td>\n",
              "      <td>16.67</td>\n",
              "      <td>152.20</td>\n",
              "      <td>1575.0</td>\n",
              "      <td>0.13740</td>\n",
              "      <td>0.20500</td>\n",
              "      <td>0.4000</td>\n",
              "      <td>0.1625</td>\n",
              "      <td>0.2364</td>\n",
              "      <td>0.07678</td>\n",
              "      <td>NaN</td>\n",
              "    </tr>\n",
              "    <tr>\n",
              "      <th>...</th>\n",
              "      <td>...</td>\n",
              "      <td>...</td>\n",
              "      <td>...</td>\n",
              "      <td>...</td>\n",
              "      <td>...</td>\n",
              "      <td>...</td>\n",
              "      <td>...</td>\n",
              "      <td>...</td>\n",
              "      <td>...</td>\n",
              "      <td>...</td>\n",
              "      <td>...</td>\n",
              "      <td>...</td>\n",
              "      <td>...</td>\n",
              "      <td>...</td>\n",
              "      <td>...</td>\n",
              "      <td>...</td>\n",
              "      <td>...</td>\n",
              "      <td>...</td>\n",
              "      <td>...</td>\n",
              "      <td>...</td>\n",
              "      <td>...</td>\n",
              "      <td>...</td>\n",
              "      <td>...</td>\n",
              "      <td>...</td>\n",
              "      <td>...</td>\n",
              "      <td>...</td>\n",
              "      <td>...</td>\n",
              "      <td>...</td>\n",
              "      <td>...</td>\n",
              "      <td>...</td>\n",
              "      <td>...</td>\n",
              "      <td>...</td>\n",
              "      <td>...</td>\n",
              "    </tr>\n",
              "    <tr>\n",
              "      <th>564</th>\n",
              "      <td>926424</td>\n",
              "      <td>M</td>\n",
              "      <td>21.56</td>\n",
              "      <td>22.39</td>\n",
              "      <td>142.00</td>\n",
              "      <td>1479.0</td>\n",
              "      <td>0.11100</td>\n",
              "      <td>0.11590</td>\n",
              "      <td>0.24390</td>\n",
              "      <td>0.13890</td>\n",
              "      <td>0.1726</td>\n",
              "      <td>0.05623</td>\n",
              "      <td>1.1760</td>\n",
              "      <td>1.2560</td>\n",
              "      <td>7.673</td>\n",
              "      <td>158.70</td>\n",
              "      <td>0.010300</td>\n",
              "      <td>0.02891</td>\n",
              "      <td>0.05198</td>\n",
              "      <td>0.02454</td>\n",
              "      <td>0.01114</td>\n",
              "      <td>0.004239</td>\n",
              "      <td>25.450</td>\n",
              "      <td>26.40</td>\n",
              "      <td>166.10</td>\n",
              "      <td>2027.0</td>\n",
              "      <td>0.14100</td>\n",
              "      <td>0.21130</td>\n",
              "      <td>0.4107</td>\n",
              "      <td>0.2216</td>\n",
              "      <td>0.2060</td>\n",
              "      <td>0.07115</td>\n",
              "      <td>NaN</td>\n",
              "    </tr>\n",
              "    <tr>\n",
              "      <th>565</th>\n",
              "      <td>926682</td>\n",
              "      <td>M</td>\n",
              "      <td>20.13</td>\n",
              "      <td>28.25</td>\n",
              "      <td>131.20</td>\n",
              "      <td>1261.0</td>\n",
              "      <td>0.09780</td>\n",
              "      <td>0.10340</td>\n",
              "      <td>0.14400</td>\n",
              "      <td>0.09791</td>\n",
              "      <td>0.1752</td>\n",
              "      <td>0.05533</td>\n",
              "      <td>0.7655</td>\n",
              "      <td>2.4630</td>\n",
              "      <td>5.203</td>\n",
              "      <td>99.04</td>\n",
              "      <td>0.005769</td>\n",
              "      <td>0.02423</td>\n",
              "      <td>0.03950</td>\n",
              "      <td>0.01678</td>\n",
              "      <td>0.01898</td>\n",
              "      <td>0.002498</td>\n",
              "      <td>23.690</td>\n",
              "      <td>38.25</td>\n",
              "      <td>155.00</td>\n",
              "      <td>1731.0</td>\n",
              "      <td>0.11660</td>\n",
              "      <td>0.19220</td>\n",
              "      <td>0.3215</td>\n",
              "      <td>0.1628</td>\n",
              "      <td>0.2572</td>\n",
              "      <td>0.06637</td>\n",
              "      <td>NaN</td>\n",
              "    </tr>\n",
              "    <tr>\n",
              "      <th>566</th>\n",
              "      <td>926954</td>\n",
              "      <td>M</td>\n",
              "      <td>16.60</td>\n",
              "      <td>28.08</td>\n",
              "      <td>108.30</td>\n",
              "      <td>858.1</td>\n",
              "      <td>0.08455</td>\n",
              "      <td>0.10230</td>\n",
              "      <td>0.09251</td>\n",
              "      <td>0.05302</td>\n",
              "      <td>0.1590</td>\n",
              "      <td>0.05648</td>\n",
              "      <td>0.4564</td>\n",
              "      <td>1.0750</td>\n",
              "      <td>3.425</td>\n",
              "      <td>48.55</td>\n",
              "      <td>0.005903</td>\n",
              "      <td>0.03731</td>\n",
              "      <td>0.04730</td>\n",
              "      <td>0.01557</td>\n",
              "      <td>0.01318</td>\n",
              "      <td>0.003892</td>\n",
              "      <td>18.980</td>\n",
              "      <td>34.12</td>\n",
              "      <td>126.70</td>\n",
              "      <td>1124.0</td>\n",
              "      <td>0.11390</td>\n",
              "      <td>0.30940</td>\n",
              "      <td>0.3403</td>\n",
              "      <td>0.1418</td>\n",
              "      <td>0.2218</td>\n",
              "      <td>0.07820</td>\n",
              "      <td>NaN</td>\n",
              "    </tr>\n",
              "    <tr>\n",
              "      <th>567</th>\n",
              "      <td>927241</td>\n",
              "      <td>M</td>\n",
              "      <td>20.60</td>\n",
              "      <td>29.33</td>\n",
              "      <td>140.10</td>\n",
              "      <td>1265.0</td>\n",
              "      <td>0.11780</td>\n",
              "      <td>0.27700</td>\n",
              "      <td>0.35140</td>\n",
              "      <td>0.15200</td>\n",
              "      <td>0.2397</td>\n",
              "      <td>0.07016</td>\n",
              "      <td>0.7260</td>\n",
              "      <td>1.5950</td>\n",
              "      <td>5.772</td>\n",
              "      <td>86.22</td>\n",
              "      <td>0.006522</td>\n",
              "      <td>0.06158</td>\n",
              "      <td>0.07117</td>\n",
              "      <td>0.01664</td>\n",
              "      <td>0.02324</td>\n",
              "      <td>0.006185</td>\n",
              "      <td>25.740</td>\n",
              "      <td>39.42</td>\n",
              "      <td>184.60</td>\n",
              "      <td>1821.0</td>\n",
              "      <td>0.16500</td>\n",
              "      <td>0.86810</td>\n",
              "      <td>0.9387</td>\n",
              "      <td>0.2650</td>\n",
              "      <td>0.4087</td>\n",
              "      <td>0.12400</td>\n",
              "      <td>NaN</td>\n",
              "    </tr>\n",
              "    <tr>\n",
              "      <th>568</th>\n",
              "      <td>92751</td>\n",
              "      <td>B</td>\n",
              "      <td>7.76</td>\n",
              "      <td>24.54</td>\n",
              "      <td>47.92</td>\n",
              "      <td>181.0</td>\n",
              "      <td>0.05263</td>\n",
              "      <td>0.04362</td>\n",
              "      <td>0.00000</td>\n",
              "      <td>0.00000</td>\n",
              "      <td>0.1587</td>\n",
              "      <td>0.05884</td>\n",
              "      <td>0.3857</td>\n",
              "      <td>1.4280</td>\n",
              "      <td>2.548</td>\n",
              "      <td>19.15</td>\n",
              "      <td>0.007189</td>\n",
              "      <td>0.00466</td>\n",
              "      <td>0.00000</td>\n",
              "      <td>0.00000</td>\n",
              "      <td>0.02676</td>\n",
              "      <td>0.002783</td>\n",
              "      <td>9.456</td>\n",
              "      <td>30.37</td>\n",
              "      <td>59.16</td>\n",
              "      <td>268.6</td>\n",
              "      <td>0.08996</td>\n",
              "      <td>0.06444</td>\n",
              "      <td>0.0000</td>\n",
              "      <td>0.0000</td>\n",
              "      <td>0.2871</td>\n",
              "      <td>0.07039</td>\n",
              "      <td>NaN</td>\n",
              "    </tr>\n",
              "  </tbody>\n",
              "</table>\n",
              "<p>569 rows × 33 columns</p>\n",
              "</div>"
            ],
            "text/plain": [
              "           id diagnosis  ...  fractal_dimension_worst  Unnamed: 32\n",
              "0      842302         M  ...                  0.11890          NaN\n",
              "1      842517         M  ...                  0.08902          NaN\n",
              "2    84300903         M  ...                  0.08758          NaN\n",
              "3    84348301         M  ...                  0.17300          NaN\n",
              "4    84358402         M  ...                  0.07678          NaN\n",
              "..        ...       ...  ...                      ...          ...\n",
              "564    926424         M  ...                  0.07115          NaN\n",
              "565    926682         M  ...                  0.06637          NaN\n",
              "566    926954         M  ...                  0.07820          NaN\n",
              "567    927241         M  ...                  0.12400          NaN\n",
              "568     92751         B  ...                  0.07039          NaN\n",
              "\n",
              "[569 rows x 33 columns]"
            ]
          },
          "metadata": {
            "tags": []
          },
          "execution_count": 5
        }
      ]
    },
    {
      "cell_type": "markdown",
      "metadata": {
        "id": "R00fiIkaqJho"
      },
      "source": [
        "## Data Visulization"
      ]
    },
    {
      "cell_type": "code",
      "metadata": {
        "colab": {
          "base_uri": "https://localhost:8080/",
          "height": 372
        },
        "id": "_0WyTKPQvglW",
        "outputId": "cb94626f-e81e-4e6b-aa71-a0c6fca7313e"
      },
      "source": [
        "# Visulizing the data  showing the count of Benign and Malignanat \n",
        "\n",
        "ax = sns.countplot(data['diagnosis'], label='count')\n",
        "B,M = data['diagnosis'].value_counts()      \n",
        "print('Benign', B)\n",
        "print('Malignanat', M)"
      ],
      "execution_count": 6,
      "outputs": [
        {
          "output_type": "stream",
          "text": [
            "Benign 357\n",
            "Malignanat 212\n"
          ],
          "name": "stdout"
        },
        {
          "output_type": "stream",
          "text": [
            "/usr/local/lib/python3.7/dist-packages/seaborn/_decorators.py:43: FutureWarning: Pass the following variable as a keyword arg: x. From version 0.12, the only valid positional argument will be `data`, and passing other arguments without an explicit keyword will result in an error or misinterpretation.\n",
            "  FutureWarning\n"
          ],
          "name": "stderr"
        },
        {
          "output_type": "display_data",
          "data": {
            "image/png": "[encoded data removed]",
            "text/plain": [
              "<Figure size 432x288 with 1 Axes>"
            ]
          },
          "metadata": {
            "tags": [],
            "needs_background": "light"
          }
        }
      ]
    },
    {
      "cell_type": "markdown",
      "metadata": {
        "id": "2CboTHqiqDdP"
      },
      "source": [
        "## Data Preprocessing"
      ]
    },
    {
      "cell_type": "code",
      "metadata": {
        "id": "BRab-YkOxIQX"
      },
      "source": [
        "# Deleting the Unnaned:32 column which contain NaN values \n",
        "del data['Unnamed: 32']"
      ],
      "execution_count": 7,
      "outputs": []
    },
    {
      "cell_type": "code",
      "metadata": {
        "id": "REfoje6wxlCS"
      },
      "source": [
        "# Independent and dependent variables \n",
        "x = data.iloc[:,2:].values  # Selecting Features\n",
        "y = data.iloc[:,1].values   # Target Variable\n",
        "\n",
        "# Encoding Categorical Data\n",
        "from sklearn.preprocessing import LabelEncoder\n",
        "labelencoder_x_1 = LabelEncoder()\n",
        "y = labelencoder_x_1.fit_transform(y)\n",
        "\n",
        "# Splitting tha dataste into the Training set and test set\n",
        "from sklearn.model_selection import train_test_split\n",
        "x_train, x_test, y_train, y_test = train_test_split(x, y, test_size = 0.1, random_state =0)\n",
        "\n",
        "# Feature Scaling\n",
        "from sklearn.preprocessing import StandardScaler\n",
        "sc = StandardScaler()\n",
        "x_train = sc.fit_transform(x_train)\n",
        "x_test = sc.transform(x_test)"
      ],
      "execution_count": 8,
      "outputs": []
    },
    {
      "cell_type": "code",
      "metadata": {
        "colab": {
          "base_uri": "https://localhost:8080/"
        },
        "id": "RMfuCyUHfxlU",
        "outputId": "49f7d7b9-bfe5-4cfa-e963-b346a6189dbb"
      },
      "source": [
        "x_train     # Training data"
      ],
      "execution_count": 9,
      "outputs": [
        {
          "output_type": "execute_result",
          "data": {
            "text/plain": [
              "array([[-0.52787029,  2.49821982, -0.59939466, ..., -1.74713139,\n",
              "        -0.79044533, -0.91054389],\n",
              "       [-0.55333608,  0.29431013, -0.60759343, ..., -0.62275667,\n",
              "        -0.33646358, -0.83551633],\n",
              "       [ 2.15452653,  0.40392257,  2.26525805, ...,  1.03846122,\n",
              "        -0.11504791,  0.26488788],\n",
              "       ...,\n",
              "       [-1.3297598 , -0.21876938, -1.32088704, ..., -0.98271999,\n",
              "        -0.718764  , -0.13637062],\n",
              "       [-1.24940108, -0.24209117, -1.2835826 , ..., -1.74713139,\n",
              "        -1.58690456, -1.01280367],\n",
              "       [-0.74291476,  1.08958336, -0.71827692, ..., -0.2865488 ,\n",
              "        -1.26354211,  0.19486216]])"
            ]
          },
          "metadata": {
            "tags": []
          },
          "execution_count": 9
        }
      ]
    },
    {
      "cell_type": "code",
      "metadata": {
        "colab": {
          "base_uri": "https://localhost:8080/"
        },
        "id": "dp8LJ_gxgLM7",
        "outputId": "ff44d658-c622-49c3-9b3a-c94cf77e58f2"
      },
      "source": [
        "x_test      # Testing Data"
      ],
      "execution_count": 10,
      "outputs": [
        {
          "output_type": "execute_result",
          "data": {
            "text/plain": [
              "array([[-0.20813312,  0.29431013, -0.13944326, ...,  1.35620942,\n",
              "         1.08282676,  1.50534354],\n",
              "       [-0.26189423,  1.39743106, -0.3255555 , ..., -0.83852283,\n",
              "        -0.73469319, -0.8855347 ],\n",
              "       [-0.0327021 , -0.83912914, -0.10049907, ..., -0.50397936,\n",
              "        -1.22531207, -0.92888396],\n",
              "       ...,\n",
              "       [-0.47410917,  0.14738282, -0.47600306, ..., -0.59340278,\n",
              "        -0.35079984, -0.34311323],\n",
              "       [-0.75423289, -0.7528385 , -0.77976775, ..., -0.75636222,\n",
              "        -0.08637538,  0.21209071],\n",
              "       [-0.79667588,  1.82421992, -0.83142005, ..., -1.43195543,\n",
              "        -0.08956122, -0.71936255]])"
            ]
          },
          "metadata": {
            "tags": []
          },
          "execution_count": 10
        }
      ]
    },
    {
      "cell_type": "markdown",
      "metadata": {
        "id": "cS7BGPeZqlyx"
      },
      "source": [
        "## Model Building"
      ]
    },
    {
      "cell_type": "code",
      "metadata": {
        "id": "LGYC4FoRhQV8"
      },
      "source": [
        "# Adding the input and First hidden layer\n",
        "classifier = Sequential()\n",
        "classifier.add(Dense(16, kernel_initializer='uniform', activation='relu', input_dim=30))\n",
        "\n",
        "# Adding the second hidden layer\n",
        "classifier.add(Dense(16, kernel_initializer='uniform', activation='relu'))\n",
        "\n",
        "# Adding Output layer\n",
        "classifier.add(Dense(1, kernel_initializer='uniform', activation='sigmoid'))"
      ],
      "execution_count": 11,
      "outputs": []
    },
    {
      "cell_type": "code",
      "metadata": {
        "id": "rpFPSSd9jOoO"
      },
      "source": [
        "# Compiling the Model by using Adam Optimiser on Accuracy metrix\n",
        "classifier.compile(optimizer='Adam', loss='binary_crossentropy', metrics=['accuracy'])"
      ],
      "execution_count": 12,
      "outputs": []
    },
    {
      "cell_type": "code",
      "metadata": {
        "colab": {
          "base_uri": "https://localhost:8080/"
        },
        "id": "iS0w5ppTlkLc",
        "outputId": "ebdf429d-598b-455c-c6b4-517e215c6168"
      },
      "source": [
        "# Model Fitting on Training datasets\n",
        "classifier.fit(x_train, y_train, batch_size=100, epochs=150)"
      ],
      "execution_count": 13,
      "outputs": [
        {
          "output_type": "stream",
          "text": [
            "Epoch 1/150\n",
            "6/6 [==============================] - 14s 3ms/step - loss: 0.6927 - accuracy: 0.5692\n",
            "Epoch 2/150\n",
            "6/6 [==============================] - 0s 2ms/step - loss: 0.6905 - accuracy: 0.6223\n",
            "Epoch 3/150\n",
            "6/6 [==============================] - 0s 2ms/step - loss: 0.6872 - accuracy: 0.6719\n",
            "Epoch 4/150\n",
            "6/6 [==============================] - 0s 3ms/step - loss: 0.6820 - accuracy: 0.7487\n",
            "Epoch 5/150\n",
            "6/6 [==============================] - 0s 3ms/step - loss: 0.6737 - accuracy: 0.8603\n",
            "Epoch 6/150\n",
            "6/6 [==============================] - 0s 2ms/step - loss: 0.6611 - accuracy: 0.9022\n",
            "Epoch 7/150\n",
            "6/6 [==============================] - 0s 2ms/step - loss: 0.6438 - accuracy: 0.9176\n",
            "Epoch 8/150\n",
            "6/6 [==============================] - 0s 3ms/step - loss: 0.6167 - accuracy: 0.9390\n",
            "Epoch 9/150\n",
            "6/6 [==============================] - 0s 3ms/step - loss: 0.5827 - accuracy: 0.9412\n",
            "Epoch 10/150\n",
            "6/6 [==============================] - 0s 3ms/step - loss: 0.5396 - accuracy: 0.9378\n",
            "Epoch 11/150\n",
            "6/6 [==============================] - 0s 3ms/step - loss: 0.4855 - accuracy: 0.9505\n",
            "Epoch 12/150\n",
            "6/6 [==============================] - 0s 3ms/step - loss: 0.4309 - accuracy: 0.9436\n",
            "Epoch 13/150\n",
            "6/6 [==============================] - 0s 3ms/step - loss: 0.3779 - accuracy: 0.9388\n",
            "Epoch 14/150\n",
            "6/6 [==============================] - 0s 2ms/step - loss: 0.3183 - accuracy: 0.9507\n",
            "Epoch 15/150\n",
            "6/6 [==============================] - 0s 2ms/step - loss: 0.2722 - accuracy: 0.9428\n",
            "Epoch 16/150\n",
            "6/6 [==============================] - 0s 2ms/step - loss: 0.2352 - accuracy: 0.9511\n",
            "Epoch 17/150\n",
            "6/6 [==============================] - 0s 3ms/step - loss: 0.2026 - accuracy: 0.9546\n",
            "Epoch 18/150\n",
            "6/6 [==============================] - 0s 2ms/step - loss: 0.1753 - accuracy: 0.9642\n",
            "Epoch 19/150\n",
            "6/6 [==============================] - 0s 3ms/step - loss: 0.1678 - accuracy: 0.9677\n",
            "Epoch 20/150\n",
            "6/6 [==============================] - 0s 2ms/step - loss: 0.1491 - accuracy: 0.9721\n",
            "Epoch 21/150\n",
            "6/6 [==============================] - 0s 3ms/step - loss: 0.1291 - accuracy: 0.9785\n",
            "Epoch 22/150\n",
            "6/6 [==============================] - 0s 2ms/step - loss: 0.1300 - accuracy: 0.9703\n",
            "Epoch 23/150\n",
            "6/6 [==============================] - 0s 3ms/step - loss: 0.1228 - accuracy: 0.9669\n",
            "Epoch 24/150\n",
            "6/6 [==============================] - 0s 3ms/step - loss: 0.1229 - accuracy: 0.9699\n",
            "Epoch 25/150\n",
            "6/6 [==============================] - 0s 2ms/step - loss: 0.1109 - accuracy: 0.9706\n",
            "Epoch 26/150\n",
            "6/6 [==============================] - 0s 2ms/step - loss: 0.0931 - accuracy: 0.9767\n",
            "Epoch 27/150\n",
            "6/6 [==============================] - 0s 3ms/step - loss: 0.1036 - accuracy: 0.9750\n",
            "Epoch 28/150\n",
            "6/6 [==============================] - 0s 3ms/step - loss: 0.1077 - accuracy: 0.9702\n",
            "Epoch 29/150\n",
            "6/6 [==============================] - 0s 3ms/step - loss: 0.0821 - accuracy: 0.9873\n",
            "Epoch 30/150\n",
            "6/6 [==============================] - 0s 3ms/step - loss: 0.0799 - accuracy: 0.9853\n",
            "Epoch 31/150\n",
            "6/6 [==============================] - 0s 2ms/step - loss: 0.0845 - accuracy: 0.9793\n",
            "Epoch 32/150\n",
            "6/6 [==============================] - 0s 2ms/step - loss: 0.0785 - accuracy: 0.9813\n",
            "Epoch 33/150\n",
            "6/6 [==============================] - 0s 2ms/step - loss: 0.0806 - accuracy: 0.9800\n",
            "Epoch 34/150\n",
            "6/6 [==============================] - 0s 3ms/step - loss: 0.0736 - accuracy: 0.9807\n",
            "Epoch 35/150\n",
            "6/6 [==============================] - 0s 3ms/step - loss: 0.0828 - accuracy: 0.9803\n",
            "Epoch 36/150\n",
            "6/6 [==============================] - 0s 3ms/step - loss: 0.0842 - accuracy: 0.9780\n",
            "Epoch 37/150\n",
            "6/6 [==============================] - 0s 3ms/step - loss: 0.0717 - accuracy: 0.9862\n",
            "Epoch 38/150\n",
            "6/6 [==============================] - 0s 3ms/step - loss: 0.0633 - accuracy: 0.9869\n",
            "Epoch 39/150\n",
            "6/6 [==============================] - 0s 3ms/step - loss: 0.0749 - accuracy: 0.9833\n",
            "Epoch 40/150\n",
            "6/6 [==============================] - 0s 2ms/step - loss: 0.0769 - accuracy: 0.9792\n",
            "Epoch 41/150\n",
            "6/6 [==============================] - 0s 2ms/step - loss: 0.0682 - accuracy: 0.9849\n",
            "Epoch 42/150\n",
            "6/6 [==============================] - 0s 2ms/step - loss: 0.0735 - accuracy: 0.9825\n",
            "Epoch 43/150\n",
            "6/6 [==============================] - 0s 2ms/step - loss: 0.0582 - accuracy: 0.9872\n",
            "Epoch 44/150\n",
            "6/6 [==============================] - 0s 3ms/step - loss: 0.0657 - accuracy: 0.9844\n",
            "Epoch 45/150\n",
            "6/6 [==============================] - 0s 2ms/step - loss: 0.0648 - accuracy: 0.9818\n",
            "Epoch 46/150\n",
            "6/6 [==============================] - 0s 3ms/step - loss: 0.0748 - accuracy: 0.9831\n",
            "Epoch 47/150\n",
            "6/6 [==============================] - 0s 2ms/step - loss: 0.0723 - accuracy: 0.9836\n",
            "Epoch 48/150\n",
            "6/6 [==============================] - 0s 3ms/step - loss: 0.0830 - accuracy: 0.9805\n",
            "Epoch 49/150\n",
            "6/6 [==============================] - 0s 2ms/step - loss: 0.0534 - accuracy: 0.9906\n",
            "Epoch 50/150\n",
            "6/6 [==============================] - 0s 2ms/step - loss: 0.0581 - accuracy: 0.9861\n",
            "Epoch 51/150\n",
            "6/6 [==============================] - 0s 4ms/step - loss: 0.0567 - accuracy: 0.9838\n",
            "Epoch 52/150\n",
            "6/6 [==============================] - 0s 2ms/step - loss: 0.0594 - accuracy: 0.9859\n",
            "Epoch 53/150\n",
            "6/6 [==============================] - 0s 3ms/step - loss: 0.0689 - accuracy: 0.9821\n",
            "Epoch 54/150\n",
            "6/6 [==============================] - 0s 2ms/step - loss: 0.0598 - accuracy: 0.9825\n",
            "Epoch 55/150\n",
            "6/6 [==============================] - 0s 2ms/step - loss: 0.0470 - accuracy: 0.9909\n",
            "Epoch 56/150\n",
            "6/6 [==============================] - 0s 2ms/step - loss: 0.0639 - accuracy: 0.9835\n",
            "Epoch 57/150\n",
            "6/6 [==============================] - 0s 3ms/step - loss: 0.0516 - accuracy: 0.9881\n",
            "Epoch 58/150\n",
            "6/6 [==============================] - 0s 2ms/step - loss: 0.0633 - accuracy: 0.9827\n",
            "Epoch 59/150\n",
            "6/6 [==============================] - 0s 2ms/step - loss: 0.0548 - accuracy: 0.9834\n",
            "Epoch 60/150\n",
            "6/6 [==============================] - 0s 2ms/step - loss: 0.0446 - accuracy: 0.9883\n",
            "Epoch 61/150\n",
            "6/6 [==============================] - 0s 2ms/step - loss: 0.0564 - accuracy: 0.9813\n",
            "Epoch 62/150\n",
            "6/6 [==============================] - 0s 3ms/step - loss: 0.0608 - accuracy: 0.9800\n",
            "Epoch 63/150\n",
            "6/6 [==============================] - 0s 2ms/step - loss: 0.0502 - accuracy: 0.9858\n",
            "Epoch 64/150\n",
            "6/6 [==============================] - 0s 3ms/step - loss: 0.0661 - accuracy: 0.9790\n",
            "Epoch 65/150\n",
            "6/6 [==============================] - 0s 2ms/step - loss: 0.0458 - accuracy: 0.9888\n",
            "Epoch 66/150\n",
            "6/6 [==============================] - 0s 2ms/step - loss: 0.0556 - accuracy: 0.9817\n",
            "Epoch 67/150\n",
            "6/6 [==============================] - 0s 4ms/step - loss: 0.0630 - accuracy: 0.9834\n",
            "Epoch 68/150\n",
            "6/6 [==============================] - 0s 3ms/step - loss: 0.0532 - accuracy: 0.9842\n",
            "Epoch 69/150\n",
            "6/6 [==============================] - 0s 3ms/step - loss: 0.0460 - accuracy: 0.9874\n",
            "Epoch 70/150\n",
            "6/6 [==============================] - 0s 4ms/step - loss: 0.0479 - accuracy: 0.9824\n",
            "Epoch 71/150\n",
            "6/6 [==============================] - 0s 3ms/step - loss: 0.0452 - accuracy: 0.9838\n",
            "Epoch 72/150\n",
            "6/6 [==============================] - 0s 2ms/step - loss: 0.0436 - accuracy: 0.9904\n",
            "Epoch 73/150\n",
            "6/6 [==============================] - 0s 4ms/step - loss: 0.0670 - accuracy: 0.9808\n",
            "Epoch 74/150\n",
            "6/6 [==============================] - 0s 3ms/step - loss: 0.0414 - accuracy: 0.9887\n",
            "Epoch 75/150\n",
            "6/6 [==============================] - 0s 2ms/step - loss: 0.0374 - accuracy: 0.9902\n",
            "Epoch 76/150\n",
            "6/6 [==============================] - 0s 3ms/step - loss: 0.0442 - accuracy: 0.9868\n",
            "Epoch 77/150\n",
            "6/6 [==============================] - 0s 2ms/step - loss: 0.0461 - accuracy: 0.9852\n",
            "Epoch 78/150\n",
            "6/6 [==============================] - 0s 2ms/step - loss: 0.0420 - accuracy: 0.9878\n",
            "Epoch 79/150\n",
            "6/6 [==============================] - 0s 2ms/step - loss: 0.0594 - accuracy: 0.9838\n",
            "Epoch 80/150\n",
            "6/6 [==============================] - 0s 2ms/step - loss: 0.0503 - accuracy: 0.9824\n",
            "Epoch 81/150\n",
            "6/6 [==============================] - 0s 2ms/step - loss: 0.0529 - accuracy: 0.9846\n",
            "Epoch 82/150\n",
            "6/6 [==============================] - 0s 2ms/step - loss: 0.0454 - accuracy: 0.9848\n",
            "Epoch 83/150\n",
            "6/6 [==============================] - 0s 3ms/step - loss: 0.0517 - accuracy: 0.9827\n",
            "Epoch 84/150\n",
            "6/6 [==============================] - 0s 3ms/step - loss: 0.0476 - accuracy: 0.9837\n",
            "Epoch 85/150\n",
            "6/6 [==============================] - 0s 2ms/step - loss: 0.0428 - accuracy: 0.9898\n",
            "Epoch 86/150\n",
            "6/6 [==============================] - 0s 2ms/step - loss: 0.0439 - accuracy: 0.9872\n",
            "Epoch 87/150\n",
            "6/6 [==============================] - 0s 2ms/step - loss: 0.0475 - accuracy: 0.9833\n",
            "Epoch 88/150\n",
            "6/6 [==============================] - 0s 2ms/step - loss: 0.0495 - accuracy: 0.9878\n",
            "Epoch 89/150\n",
            "6/6 [==============================] - 0s 2ms/step - loss: 0.0398 - accuracy: 0.9901\n",
            "Epoch 90/150\n",
            "6/6 [==============================] - 0s 3ms/step - loss: 0.0352 - accuracy: 0.9912\n",
            "Epoch 91/150\n",
            "6/6 [==============================] - 0s 2ms/step - loss: 0.0474 - accuracy: 0.9865\n",
            "Epoch 92/150\n",
            "6/6 [==============================] - 0s 2ms/step - loss: 0.0466 - accuracy: 0.9889\n",
            "Epoch 93/150\n",
            "6/6 [==============================] - 0s 3ms/step - loss: 0.0352 - accuracy: 0.9903\n",
            "Epoch 94/150\n",
            "6/6 [==============================] - 0s 2ms/step - loss: 0.0548 - accuracy: 0.9843\n",
            "Epoch 95/150\n",
            "6/6 [==============================] - 0s 3ms/step - loss: 0.0427 - accuracy: 0.9871\n",
            "Epoch 96/150\n",
            "6/6 [==============================] - 0s 2ms/step - loss: 0.0472 - accuracy: 0.9866\n",
            "Epoch 97/150\n",
            "6/6 [==============================] - 0s 2ms/step - loss: 0.0508 - accuracy: 0.9859\n",
            "Epoch 98/150\n",
            "6/6 [==============================] - 0s 3ms/step - loss: 0.0389 - accuracy: 0.9871\n",
            "Epoch 99/150\n",
            "6/6 [==============================] - 0s 3ms/step - loss: 0.0417 - accuracy: 0.9885\n",
            "Epoch 100/150\n",
            "6/6 [==============================] - 0s 3ms/step - loss: 0.0400 - accuracy: 0.9871\n",
            "Epoch 101/150\n",
            "6/6 [==============================] - 0s 3ms/step - loss: 0.0469 - accuracy: 0.9880\n",
            "Epoch 102/150\n",
            "6/6 [==============================] - 0s 3ms/step - loss: 0.0378 - accuracy: 0.9927\n",
            "Epoch 103/150\n",
            "6/6 [==============================] - 0s 3ms/step - loss: 0.0349 - accuracy: 0.9934\n",
            "Epoch 104/150\n",
            "6/6 [==============================] - 0s 3ms/step - loss: 0.0386 - accuracy: 0.9917\n",
            "Epoch 105/150\n",
            "6/6 [==============================] - 0s 2ms/step - loss: 0.0464 - accuracy: 0.9882\n",
            "Epoch 106/150\n",
            "6/6 [==============================] - 0s 2ms/step - loss: 0.0436 - accuracy: 0.9897\n",
            "Epoch 107/150\n",
            "6/6 [==============================] - 0s 3ms/step - loss: 0.0475 - accuracy: 0.9903\n",
            "Epoch 108/150\n",
            "6/6 [==============================] - 0s 2ms/step - loss: 0.0364 - accuracy: 0.9915\n",
            "Epoch 109/150\n",
            "6/6 [==============================] - 0s 2ms/step - loss: 0.0371 - accuracy: 0.9921\n",
            "Epoch 110/150\n",
            "6/6 [==============================] - 0s 3ms/step - loss: 0.0603 - accuracy: 0.9849\n",
            "Epoch 111/150\n",
            "6/6 [==============================] - 0s 2ms/step - loss: 0.0419 - accuracy: 0.9890\n",
            "Epoch 112/150\n",
            "6/6 [==============================] - 0s 2ms/step - loss: 0.0469 - accuracy: 0.9860\n",
            "Epoch 113/150\n",
            "6/6 [==============================] - 0s 2ms/step - loss: 0.0397 - accuracy: 0.9924\n",
            "Epoch 114/150\n",
            "6/6 [==============================] - 0s 4ms/step - loss: 0.0353 - accuracy: 0.9923\n",
            "Epoch 115/150\n",
            "6/6 [==============================] - 0s 3ms/step - loss: 0.0461 - accuracy: 0.9909\n",
            "Epoch 116/150\n",
            "6/6 [==============================] - 0s 3ms/step - loss: 0.0515 - accuracy: 0.9900\n",
            "Epoch 117/150\n",
            "6/6 [==============================] - 0s 2ms/step - loss: 0.0480 - accuracy: 0.9891\n",
            "Epoch 118/150\n",
            "6/6 [==============================] - 0s 2ms/step - loss: 0.0447 - accuracy: 0.9889\n",
            "Epoch 119/150\n",
            "6/6 [==============================] - 0s 2ms/step - loss: 0.0520 - accuracy: 0.9882\n",
            "Epoch 120/150\n",
            "6/6 [==============================] - 0s 3ms/step - loss: 0.0439 - accuracy: 0.9909\n",
            "Epoch 121/150\n",
            "6/6 [==============================] - 0s 2ms/step - loss: 0.0329 - accuracy: 0.9919\n",
            "Epoch 122/150\n",
            "6/6 [==============================] - 0s 2ms/step - loss: 0.0416 - accuracy: 0.9909\n",
            "Epoch 123/150\n",
            "6/6 [==============================] - 0s 2ms/step - loss: 0.0424 - accuracy: 0.9901\n",
            "Epoch 124/150\n",
            "6/6 [==============================] - 0s 2ms/step - loss: 0.0375 - accuracy: 0.9926\n",
            "Epoch 125/150\n",
            "6/6 [==============================] - 0s 2ms/step - loss: 0.0376 - accuracy: 0.9933\n",
            "Epoch 126/150\n",
            "6/6 [==============================] - 0s 2ms/step - loss: 0.0471 - accuracy: 0.9895\n",
            "Epoch 127/150\n",
            "6/6 [==============================] - 0s 3ms/step - loss: 0.0309 - accuracy: 0.9950\n",
            "Epoch 128/150\n",
            "6/6 [==============================] - 0s 3ms/step - loss: 0.0371 - accuracy: 0.9936\n",
            "Epoch 129/150\n",
            "6/6 [==============================] - 0s 3ms/step - loss: 0.0307 - accuracy: 0.9946\n",
            "Epoch 130/150\n",
            "6/6 [==============================] - 0s 3ms/step - loss: 0.0332 - accuracy: 0.9942\n",
            "Epoch 131/150\n",
            "6/6 [==============================] - 0s 2ms/step - loss: 0.0266 - accuracy: 0.9954\n",
            "Epoch 132/150\n",
            "6/6 [==============================] - 0s 2ms/step - loss: 0.0377 - accuracy: 0.9913\n",
            "Epoch 133/150\n",
            "6/6 [==============================] - 0s 3ms/step - loss: 0.0353 - accuracy: 0.9927\n",
            "Epoch 134/150\n",
            "6/6 [==============================] - 0s 3ms/step - loss: 0.0381 - accuracy: 0.9928\n",
            "Epoch 135/150\n",
            "6/6 [==============================] - 0s 3ms/step - loss: 0.0328 - accuracy: 0.9939\n",
            "Epoch 136/150\n",
            "6/6 [==============================] - 0s 3ms/step - loss: 0.0443 - accuracy: 0.9883\n",
            "Epoch 137/150\n",
            "6/6 [==============================] - 0s 3ms/step - loss: 0.0326 - accuracy: 0.9928\n",
            "Epoch 138/150\n",
            "6/6 [==============================] - 0s 3ms/step - loss: 0.0318 - accuracy: 0.9931\n",
            "Epoch 139/150\n",
            "6/6 [==============================] - 0s 2ms/step - loss: 0.0370 - accuracy: 0.9927\n",
            "Epoch 140/150\n",
            "6/6 [==============================] - 0s 2ms/step - loss: 0.0440 - accuracy: 0.9883\n",
            "Epoch 141/150\n",
            "6/6 [==============================] - 0s 2ms/step - loss: 0.0380 - accuracy: 0.9909\n",
            "Epoch 142/150\n",
            "6/6 [==============================] - 0s 3ms/step - loss: 0.0370 - accuracy: 0.9909\n",
            "Epoch 143/150\n",
            "6/6 [==============================] - 0s 3ms/step - loss: 0.0328 - accuracy: 0.9925\n",
            "Epoch 144/150\n",
            "6/6 [==============================] - 0s 3ms/step - loss: 0.0281 - accuracy: 0.9954\n",
            "Epoch 145/150\n",
            "6/6 [==============================] - 0s 3ms/step - loss: 0.0406 - accuracy: 0.9900\n",
            "Epoch 146/150\n",
            "6/6 [==============================] - 0s 2ms/step - loss: 0.0281 - accuracy: 0.9942\n",
            "Epoch 147/150\n",
            "6/6 [==============================] - 0s 4ms/step - loss: 0.0384 - accuracy: 0.9909\n",
            "Epoch 148/150\n",
            "6/6 [==============================] - 0s 2ms/step - loss: 0.0258 - accuracy: 0.9956\n",
            "Epoch 149/150\n",
            "6/6 [==============================] - 0s 3ms/step - loss: 0.0338 - accuracy: 0.9931\n",
            "Epoch 150/150\n",
            "6/6 [==============================] - 0s 4ms/step - loss: 0.0268 - accuracy: 0.9947\n"
          ],
          "name": "stdout"
        },
        {
          "output_type": "execute_result",
          "data": {
            "text/plain": [
              "<keras.callbacks.History at 0x7f58c3dd9dd0>"
            ]
          },
          "metadata": {
            "tags": []
          },
          "execution_count": 13
        }
      ]
    },
    {
      "cell_type": "code",
      "metadata": {
        "colab": {
          "base_uri": "https://localhost:8080/"
        },
        "id": "1WrVgv2fjCPY",
        "outputId": "f925dfb6-a8d0-4318-d564-4a7be0460929"
      },
      "source": [
        "# Evaluate the Model\n",
        "classifier.evaluate(x_test, y_test)"
      ],
      "execution_count": 17,
      "outputs": [
        {
          "output_type": "stream",
          "text": [
            "2/2 [==============================] - 0s 6ms/step - loss: 0.0241 - accuracy: 0.9825\n"
          ],
          "name": "stdout"
        },
        {
          "output_type": "execute_result",
          "data": {
            "text/plain": [
              "[0.02405177801847458, 0.9824561476707458]"
            ]
          },
          "metadata": {
            "tags": []
          },
          "execution_count": 17
        }
      ]
    },
    {
      "cell_type": "code",
      "metadata": {
        "id": "ShsbBKosl-2s",
        "colab": {
          "base_uri": "https://localhost:8080/"
        },
        "outputId": "74d0f599-ebb4-425b-83fa-6dd7589be83e"
      },
      "source": [
        "# Predicting the test set results\n",
        "y_pred = classifier.predict(x_test)\n",
        "y_pred = (y_pred > 0.7)\n",
        "y_pred"
      ],
      "execution_count": 18,
      "outputs": [
        {
          "output_type": "execute_result",
          "data": {
            "text/plain": [
              "array([[ True],\n",
              "       [False],\n",
              "       [False],\n",
              "       [False],\n",
              "       [False],\n",
              "       [False],\n",
              "       [False],\n",
              "       [False],\n",
              "       [False],\n",
              "       [False],\n",
              "       [False],\n",
              "       [False],\n",
              "       [False],\n",
              "       [False],\n",
              "       [False],\n",
              "       [ True],\n",
              "       [False],\n",
              "       [ True],\n",
              "       [ True],\n",
              "       [ True],\n",
              "       [ True],\n",
              "       [ True],\n",
              "       [False],\n",
              "       [False],\n",
              "       [ True],\n",
              "       [False],\n",
              "       [False],\n",
              "       [ True],\n",
              "       [False],\n",
              "       [ True],\n",
              "       [False],\n",
              "       [ True],\n",
              "       [False],\n",
              "       [ True],\n",
              "       [False],\n",
              "       [ True],\n",
              "       [False],\n",
              "       [ True],\n",
              "       [False],\n",
              "       [ True],\n",
              "       [ True],\n",
              "       [False],\n",
              "       [ True],\n",
              "       [False],\n",
              "       [False],\n",
              "       [ True],\n",
              "       [False],\n",
              "       [False],\n",
              "       [False],\n",
              "       [ True],\n",
              "       [ True],\n",
              "       [ True],\n",
              "       [ True],\n",
              "       [False],\n",
              "       [False],\n",
              "       [False],\n",
              "       [False]])"
            ]
          },
          "metadata": {
            "tags": []
          },
          "execution_count": 18
        }
      ]
    },
    {
      "cell_type": "code",
      "metadata": {
        "id": "gtUgQ0eCnpOO"
      },
      "source": [
        "# Making the confusion Matrix\n",
        "from sklearn.metrics import confusion_matrix\n",
        "cm = confusion_matrix(y_test, y_pred)"
      ],
      "execution_count": null,
      "outputs": []
    },
    {
      "cell_type": "code",
      "metadata": {
        "colab": {
          "base_uri": "https://localhost:8080/",
          "height": 269
        },
        "id": "0p-1ZWCHoD2V",
        "outputId": "e3b1fab6-9bb0-4eda-eebe-0e5aac4ce0c5"
      },
      "source": [
        "# Graphical representation of result in the form of confusion Matrix\n",
        "sns.heatmap(cm,annot=True)\n",
        "plt.savefig('h.png')"
      ],
      "execution_count": null,
      "outputs": [
        {
          "output_type": "display_data",
          "data": {
            "image/png": "[encoded data removed]",
            "text/plain": [
              "<Figure size 432x288 with 2 Axes>"
            ]
          },
          "metadata": {
            "tags": [],
            "needs_background": "light"
          }
        }
      ]
    },
    {
      "cell_type": "code",
      "metadata": {
        "id": "Rxm3Ppe4oUWc"
      },
      "source": [
        ""
      ],
      "execution_count": null,
      "outputs": []
    }
  ]
}